{
 "cells": [
  {
   "cell_type": "code",
   "execution_count": 198,
   "metadata": {},
   "outputs": [],
   "source": [
    "import torch\n",
    "import torchvision\n",
    "import numpy as np"
   ]
  },
  {
   "cell_type": "code",
   "execution_count": 199,
   "metadata": {},
   "outputs": [
    {
     "data": {
      "text/plain": [
       "<torch._C.Generator at 0x26687962170>"
      ]
     },
     "execution_count": 199,
     "metadata": {},
     "output_type": "execute_result"
    }
   ],
   "source": [
    "n_epochs = 3\n",
    "batch_size_train = 64\n",
    "batch_size_test = 1000\n",
    "learning_rate = 0.01\n",
    "momentum = 0.5\n",
    "log_interval = 10\n",
    "\n",
    "random_seed = 1\n",
    "torch.backends.cudnn.enabled = False\n",
    "torch.manual_seed(random_seed)"
   ]
  },
  {
   "cell_type": "code",
   "execution_count": 200,
   "metadata": {},
   "outputs": [
    {
     "name": "stdout",
     "output_type": "stream",
     "text": [
      "<class 'torch.utils.data.dataloader.DataLoader'>\n",
      "1\n"
     ]
    }
   ],
   "source": [
    "train_loader = torch.utils.data.DataLoader(\n",
    "  torchvision.datasets.EMNIST('/files/', split='byclass',train=True, download=True,\n",
    "                             transform=torchvision.transforms.Compose([\n",
    "                               torchvision.transforms.ToTensor(),\n",
    "                               torchvision.transforms.Normalize(\n",
    "                                 (0.1307,), (0.3081,))\n",
    "                             ])),\n",
    "  batch_size=batch_size_train, shuffle=True)\n",
    "\n",
    "test_loader = torch.utils.data.DataLoader(\n",
    "  torchvision.datasets.EMNIST('/files/',split='byclass', train=False, download=True,\n",
    "                             transform=torchvision.transforms.Compose([\n",
    "                               torchvision.transforms.ToTensor(),\n",
    "                               torchvision.transforms.Normalize(\n",
    "                                 (0.1307,), (0.3081,))\n",
    "                             ])),\n",
    "  batch_size=batch_size_test, shuffle=True)\n",
    "print(type(train_loader))\n",
    "print(np.size(train_loader))"
   ]
  },
  {
   "cell_type": "code",
   "execution_count": 201,
   "metadata": {},
   "outputs": [],
   "source": [
    "for i, data in enumerate(train_loader):\n",
    "        t, train_labels = data\n",
    "        \n",
    "for i, data in enumerate(test_loader):\n",
    "        t, test_labels = data"
   ]
  },
  {
   "cell_type": "code",
   "execution_count": 211,
   "metadata": {},
   "outputs": [
    {
     "name": "stdout",
     "output_type": "stream",
     "text": [
      "<class 'torch.Tensor'>\n"
     ]
    }
   ],
   "source": [
    "print(type(train_labels))"
   ]
  },
  {
   "cell_type": "code",
   "execution_count": 202,
   "metadata": {},
   "outputs": [
    {
     "name": "stdout",
     "output_type": "stream",
     "text": [
      "<class 'numpy.ndarray'>\n"
     ]
    }
   ],
   "source": [
    "# Convert data to numpy arrays and normalize images to the interval [0, 1]\n",
    "\n",
    "train_loader = next(iter(train_loader))[0].numpy() / 255.0\n",
    "test_loader = next(iter(test_loader))[0].numpy() / 255.0\n",
    "print(type(train_loader))"
   ]
  },
  {
   "cell_type": "code",
   "execution_count": 203,
   "metadata": {
    "collapsed": true
   },
   "outputs": [
    {
     "data": {
      "text/plain": [
       "array([[[-1.6635802e-03, -1.6635802e-03, -1.6635802e-03, -1.6635802e-03,\n",
       "         -1.6635802e-03, -1.6635802e-03, -1.6635802e-03, -1.6635802e-03,\n",
       "         -1.6635802e-03, -1.6635802e-03, -1.6635802e-03, -1.6635802e-03,\n",
       "         -1.6635802e-03, -1.6635802e-03, -1.6635802e-03, -1.6635802e-03,\n",
       "         -1.6635802e-03, -1.6635802e-03, -1.6635802e-03, -1.6635802e-03,\n",
       "         -1.6635802e-03, -1.6635802e-03, -1.6635802e-03, -1.6635802e-03,\n",
       "         -1.6635802e-03, -1.6635802e-03, -1.6635802e-03, -1.6635802e-03],\n",
       "        [-1.6635802e-03, -1.6635802e-03, -1.6635802e-03, -1.6635802e-03,\n",
       "         -1.6635802e-03, -1.6635802e-03, -1.6635802e-03, -1.6635802e-03,\n",
       "         -1.6635802e-03, -1.6635802e-03, -1.6635802e-03, -1.6635802e-03,\n",
       "         -1.6635802e-03, -1.6635802e-03, -1.6635802e-03, -1.6635802e-03,\n",
       "         -1.6635802e-03, -1.6635802e-03, -1.6635802e-03, -1.6635802e-03,\n",
       "         -1.6635802e-03, -1.6635802e-03, -1.6635802e-03, -1.6635802e-03,\n",
       "         -1.6635802e-03, -1.6635802e-03, -1.6635802e-03, -1.6635802e-03],\n",
       "        [-1.6635802e-03, -1.6635802e-03, -1.6635802e-03, -1.6635802e-03,\n",
       "         -1.6635802e-03, -1.6635802e-03, -1.6635802e-03, -1.6635802e-03,\n",
       "         -1.6635802e-03, -1.6635802e-03, -1.6635802e-03, -1.6635802e-03,\n",
       "         -1.6635802e-03, -1.6635802e-03, -1.6635802e-03, -1.6635802e-03,\n",
       "         -1.6635802e-03, -1.6635802e-03, -1.6635802e-03, -1.6635802e-03,\n",
       "         -1.6635802e-03, -1.6635802e-03, -1.6635802e-03, -1.6635802e-03,\n",
       "         -1.6635802e-03, -1.6635802e-03, -1.6635802e-03, -1.6635802e-03],\n",
       "        [-1.6635802e-03, -1.6635802e-03, -1.6635802e-03, -1.6635802e-03,\n",
       "         -1.6635802e-03, -1.6635802e-03, -1.6635802e-03, -1.6635802e-03,\n",
       "         -1.6635802e-03, -1.6635802e-03, -1.6635802e-03, -1.6635802e-03,\n",
       "         -1.6635802e-03, -1.6635802e-03, -1.6635802e-03, -1.6635802e-03,\n",
       "         -1.6635802e-03, -1.6635802e-03, -1.6635802e-03, -1.6635802e-03,\n",
       "         -1.6635802e-03, -1.6635802e-03, -1.6635802e-03, -1.6635802e-03,\n",
       "         -1.6635802e-03, -1.6635802e-03, -1.6635802e-03, -1.6635802e-03],\n",
       "        [-1.6635802e-03, -1.6635802e-03, -1.6635802e-03, -1.6635802e-03,\n",
       "         -1.6635802e-03, -1.6635802e-03, -1.6635802e-03, -1.6635802e-03,\n",
       "         -1.6635802e-03, -1.6635802e-03, -1.6635802e-03, -1.6635802e-03,\n",
       "         -1.6635802e-03, -1.6635802e-03, -1.6635802e-03, -1.6635802e-03,\n",
       "         -1.6635802e-03, -1.6635802e-03, -1.6635802e-03, -1.6635802e-03,\n",
       "         -1.6635802e-03, -1.6635802e-03, -1.6635802e-03, -1.6635802e-03,\n",
       "         -1.6635802e-03, -1.6635802e-03, -1.6635802e-03, -1.6635802e-03],\n",
       "        [-1.6635802e-03, -1.6635802e-03, -1.6635802e-03, -1.6635802e-03,\n",
       "         -1.6635802e-03, -1.6635802e-03, -1.6635802e-03, -1.6635802e-03,\n",
       "         -1.6635802e-03, -1.6635802e-03, -1.6635802e-03, -1.6635802e-03,\n",
       "         -1.6635802e-03, -1.6635802e-03, -1.6635802e-03, -1.6635802e-03,\n",
       "         -1.6635802e-03, -1.6635802e-03, -1.6635802e-03, -1.6635802e-03,\n",
       "         -1.6635802e-03, -1.6635802e-03, -1.6635802e-03, -1.6635802e-03,\n",
       "         -1.6635802e-03, -1.6635802e-03, -1.6635802e-03, -1.6635802e-03],\n",
       "        [-1.6635802e-03, -1.6635802e-03, -1.6635802e-03, -1.6635802e-03,\n",
       "         -1.6635802e-03, -1.6635802e-03, -1.6635802e-03, -1.6635802e-03,\n",
       "         -1.6635802e-03, -1.6635802e-03, -1.6635802e-03, -1.6635802e-03,\n",
       "         -1.6635802e-03, -1.6635802e-03, -1.6635802e-03, -1.6635802e-03,\n",
       "         -1.6635802e-03, -1.6635802e-03, -1.6635802e-03, -1.6635802e-03,\n",
       "         -1.6635802e-03, -1.6635802e-03, -1.6635802e-03, -1.6635802e-03,\n",
       "         -1.6635802e-03, -1.6635802e-03, -1.6635802e-03, -1.6635802e-03],\n",
       "        [-1.6635802e-03, -1.6635802e-03, -1.6635802e-03, -1.6635802e-03,\n",
       "         -1.6635802e-03, -1.6635802e-03, -1.6635802e-03, -1.6635802e-03,\n",
       "         -1.6635802e-03, -1.6635802e-03, -1.6635802e-03, -1.6635802e-03,\n",
       "         -1.6635802e-03, -1.6635802e-03, -1.6635802e-03, -1.6635802e-03,\n",
       "         -1.6635802e-03, -1.6635802e-03, -1.6635802e-03, -1.6635802e-03,\n",
       "         -1.6635802e-03, -1.6635802e-03, -1.6635802e-03, -1.6635802e-03,\n",
       "         -1.6635802e-03, -1.6635802e-03, -1.6635802e-03, -1.6635802e-03],\n",
       "        [-1.6635802e-03, -1.6635802e-03, -1.6635802e-03, -1.6635802e-03,\n",
       "         -1.6635802e-03, -1.6635802e-03, -1.6635802e-03, -1.6635802e-03,\n",
       "         -1.6635802e-03, -1.6635802e-03, -1.6635802e-03, -1.6635802e-03,\n",
       "         -1.6635802e-03, -1.6635802e-03, -1.6635802e-03, -1.6635802e-03,\n",
       "         -1.6635802e-03, -1.6635802e-03, -1.6635802e-03, -1.6635802e-03,\n",
       "         -1.6635802e-03, -1.6635802e-03, -1.6635802e-03, -1.6635802e-03,\n",
       "         -1.6635802e-03, -1.6635802e-03, -1.6635802e-03, -1.6635802e-03],\n",
       "        [-1.6635802e-03, -1.6635802e-03, -1.6635802e-03, -1.6635802e-03,\n",
       "         -1.6635802e-03, -1.6635802e-03, -1.6635802e-03, -1.6635802e-03,\n",
       "         -1.6635802e-03, -1.5637510e-03, -1.4639216e-03, -1.4639216e-03,\n",
       "         -1.6635802e-03, -1.6635802e-03, -1.6635802e-03, -1.6635802e-03,\n",
       "         -1.6635802e-03, -1.6635802e-03, -1.6635802e-03, -1.6635802e-03,\n",
       "         -1.6635802e-03, -1.6635802e-03, -1.6635802e-03, -1.6635802e-03,\n",
       "         -1.6635802e-03, -1.6635802e-03, -1.6635802e-03, -1.6635802e-03],\n",
       "        [-1.6635802e-03, -1.6635802e-03, -1.6635802e-03, -1.6635802e-03,\n",
       "         -1.4140070e-03, -6.6311601e-05,  1.8326160e-04,  2.3317624e-04,\n",
       "          2.8309089e-04,  2.4793351e-03,  4.0266886e-03,  4.0266886e-03,\n",
       "          8.8206650e-04,  2.8309089e-04,  2.3317624e-04,  2.3317624e-04,\n",
       "          2.3317624e-04,  1.8326160e-04, -1.6396958e-05, -1.3141778e-03,\n",
       "         -1.6136656e-03, -1.6635802e-03, -1.6635802e-03, -1.6635802e-03,\n",
       "         -1.6635802e-03, -1.6635802e-03, -1.6635802e-03, -1.6635802e-03],\n",
       "        [-1.6635802e-03, -1.6635802e-03, -1.6635802e-03, -1.5637510e-03,\n",
       "         -6.6528737e-04,  3.8270303e-03,  4.6755793e-03,  4.7754091e-03,\n",
       "          4.8752381e-03,  7.0714825e-03,  8.5689221e-03,  8.5689221e-03,\n",
       "          5.4242993e-03,  4.8752381e-03,  4.7754091e-03,  4.7754091e-03,\n",
       "          4.7754091e-03,  4.6755793e-03,  4.0766033e-03,  8.3432315e-05,\n",
       "         -1.1145192e-03, -1.4639216e-03, -1.5637510e-03, -1.6635802e-03,\n",
       "         -1.6635802e-03, -1.6635802e-03, -1.6635802e-03, -1.6635802e-03],\n",
       "        [-1.6635802e-03, -1.6635802e-03, -1.6635802e-03, -1.2642632e-03,\n",
       "          5.3266407e-04,  7.9200314e-03,  9.1678975e-03,  9.3176411e-03,\n",
       "          9.3675554e-03,  1.0166191e-02,  1.0715251e-02,  1.0715251e-02,\n",
       "          9.5672151e-03,  9.3675554e-03,  9.3176411e-03,  9.3176411e-03,\n",
       "          9.3176411e-03,  9.2178117e-03,  8.5689221e-03,  3.1781401e-03,\n",
       "          9.3198119e-04,  8.3432315e-05, -6.6528737e-04, -1.6136656e-03,\n",
       "         -1.6635802e-03, -1.6635802e-03, -1.6635802e-03, -1.6635802e-03],\n",
       "        [-1.6635802e-03, -1.6635802e-03, -1.6136656e-03, -8.6494593e-04,\n",
       "          1.7805303e-03,  9.6171293e-03,  1.0765165e-02,  1.0864995e-02,\n",
       "          1.0815081e-02,  1.0864995e-02,  1.0964825e-02,  1.0964825e-02,\n",
       "          1.0815081e-02,  1.0815081e-02,  1.0864995e-02,  1.0964825e-02,\n",
       "          1.0964825e-02,  1.0964825e-02,  1.0665337e-02,  7.2711413e-03,\n",
       "          5.3743850e-03,  4.1764327e-03,  2.2297620e-03, -1.2143485e-03,\n",
       "         -1.6136656e-03, -1.6635802e-03, -1.6635802e-03, -1.6635802e-03],\n",
       "        [-1.6635802e-03, -1.6635802e-03, -1.6635802e-03, -1.3640923e-03,\n",
       "         -6.6311601e-05,  6.2229340e-03,  7.8701172e-03,  6.9716531e-03,\n",
       "          5.4242993e-03,  4.7754091e-03,  4.7754091e-03,  4.7754091e-03,\n",
       "          4.8752381e-03,  5.4242993e-03,  7.0714825e-03,  8.6687505e-03,\n",
       "          9.3675554e-03,  9.5672151e-03,  1.0216105e-02,  1.1064654e-02,\n",
       "          1.0964825e-02,  1.0615421e-02,  9.2677269e-03,  2.1299326e-03,\n",
       "         -6.6528737e-04, -1.5637510e-03, -1.6635802e-03, -1.6635802e-03],\n",
       "        [-1.6635802e-03, -1.6635802e-03, -1.6635802e-03, -1.6136656e-03,\n",
       "         -1.2642632e-03,  2.1798473e-03,  3.3777985e-03,  2.4294206e-03,\n",
       "          8.8206650e-04,  2.3317624e-04,  2.3317624e-04,  2.3317624e-04,\n",
       "          2.8309089e-04,  8.8206650e-04,  2.4793351e-03,  4.1265180e-03,\n",
       "          4.8752381e-03,  5.4742140e-03,  7.3210555e-03,  1.0665337e-02,\n",
       "          1.0914910e-02,  1.0665337e-02,  9.6171293e-03,  3.1282254e-03,\n",
       "         -3.1588488e-04, -1.5138363e-03, -1.6635802e-03, -1.6635802e-03],\n",
       "        [-1.6635802e-03, -1.6635802e-03, -1.6635802e-03, -1.6635802e-03,\n",
       "         -1.6136656e-03, -6.6528737e-04, -2.6597024e-04, -6.6528737e-04,\n",
       "         -1.2143485e-03, -1.4639216e-03, -1.4639216e-03, -1.4639216e-03,\n",
       "         -1.4140070e-03, -1.2143485e-03, -6.1537273e-04, -1.6396958e-05,\n",
       "          3.3300550e-04,  9.8189584e-04,  3.1781401e-03,  8.5689221e-03,\n",
       "          9.1678975e-03,  8.6188363e-03,  6.9217389e-03,  1.5309569e-03,\n",
       "         -7.6511665e-04, -1.5637510e-03, -1.6635802e-03, -1.6635802e-03],\n",
       "        [-1.6635802e-03, -1.6635802e-03, -1.6635802e-03, -1.6635802e-03,\n",
       "         -1.6635802e-03, -1.5637510e-03, -1.5138363e-03, -1.5637510e-03,\n",
       "         -1.6635802e-03, -1.6635802e-03, -1.6635802e-03, -1.6635802e-03,\n",
       "         -1.6635802e-03, -1.6635802e-03, -1.5637510e-03, -1.4639216e-03,\n",
       "         -1.4140070e-03, -1.1145192e-03,  8.3432315e-05,  4.0766033e-03,\n",
       "          4.6256646e-03,  4.0766033e-03,  2.4793351e-03, -6.6528737e-04,\n",
       "         -1.4140070e-03, -1.6635802e-03, -1.6635802e-03, -1.6635802e-03],\n",
       "        [-1.6635802e-03, -1.6635802e-03, -1.6635802e-03, -1.6635802e-03,\n",
       "         -1.6635802e-03, -1.6635802e-03, -1.6635802e-03, -1.6635802e-03,\n",
       "         -1.6635802e-03, -1.6635802e-03, -1.6635802e-03, -1.6635802e-03,\n",
       "         -1.6635802e-03, -1.6635802e-03, -1.6635802e-03, -1.6635802e-03,\n",
       "         -1.6635802e-03, -1.6635802e-03, -1.6635802e-03, -1.4639216e-03,\n",
       "         -1.4639216e-03, -1.4639216e-03, -1.5637510e-03, -1.6635802e-03,\n",
       "         -1.6635802e-03, -1.6635802e-03, -1.6635802e-03, -1.6635802e-03],\n",
       "        [-1.6635802e-03, -1.6635802e-03, -1.6635802e-03, -1.6635802e-03,\n",
       "         -1.6635802e-03, -1.6635802e-03, -1.6635802e-03, -1.6635802e-03,\n",
       "         -1.6635802e-03, -1.6635802e-03, -1.6635802e-03, -1.6635802e-03,\n",
       "         -1.6635802e-03, -1.6635802e-03, -1.6635802e-03, -1.6635802e-03,\n",
       "         -1.6635802e-03, -1.6635802e-03, -1.6635802e-03, -1.6635802e-03,\n",
       "         -1.6635802e-03, -1.6635802e-03, -1.6635802e-03, -1.6635802e-03,\n",
       "         -1.6635802e-03, -1.6635802e-03, -1.6635802e-03, -1.6635802e-03],\n",
       "        [-1.6635802e-03, -1.6635802e-03, -1.6635802e-03, -1.6635802e-03,\n",
       "         -1.6635802e-03, -1.6635802e-03, -1.6635802e-03, -1.6635802e-03,\n",
       "         -1.6635802e-03, -1.6635802e-03, -1.6635802e-03, -1.6635802e-03,\n",
       "         -1.6635802e-03, -1.6635802e-03, -1.6635802e-03, -1.6635802e-03,\n",
       "         -1.6635802e-03, -1.6635802e-03, -1.6635802e-03, -1.6635802e-03,\n",
       "         -1.6635802e-03, -1.6635802e-03, -1.6635802e-03, -1.6635802e-03,\n",
       "         -1.6635802e-03, -1.6635802e-03, -1.6635802e-03, -1.6635802e-03],\n",
       "        [-1.6635802e-03, -1.6635802e-03, -1.6635802e-03, -1.6635802e-03,\n",
       "         -1.6635802e-03, -1.6635802e-03, -1.6635802e-03, -1.6635802e-03,\n",
       "         -1.6635802e-03, -1.6635802e-03, -1.6635802e-03, -1.6635802e-03,\n",
       "         -1.6635802e-03, -1.6635802e-03, -1.6635802e-03, -1.6635802e-03,\n",
       "         -1.6635802e-03, -1.6635802e-03, -1.6635802e-03, -1.6635802e-03,\n",
       "         -1.6635802e-03, -1.6635802e-03, -1.6635802e-03, -1.6635802e-03,\n",
       "         -1.6635802e-03, -1.6635802e-03, -1.6635802e-03, -1.6635802e-03],\n",
       "        [-1.6635802e-03, -1.6635802e-03, -1.6635802e-03, -1.6635802e-03,\n",
       "         -1.6635802e-03, -1.6635802e-03, -1.6635802e-03, -1.6635802e-03,\n",
       "         -1.6635802e-03, -1.6635802e-03, -1.6635802e-03, -1.6635802e-03,\n",
       "         -1.6635802e-03, -1.6635802e-03, -1.6635802e-03, -1.6635802e-03,\n",
       "         -1.6635802e-03, -1.6635802e-03, -1.6635802e-03, -1.6635802e-03,\n",
       "         -1.6635802e-03, -1.6635802e-03, -1.6635802e-03, -1.6635802e-03,\n",
       "         -1.6635802e-03, -1.6635802e-03, -1.6635802e-03, -1.6635802e-03],\n",
       "        [-1.6635802e-03, -1.6635802e-03, -1.6635802e-03, -1.6635802e-03,\n",
       "         -1.6635802e-03, -1.6635802e-03, -1.6635802e-03, -1.6635802e-03,\n",
       "         -1.6635802e-03, -1.6635802e-03, -1.6635802e-03, -1.6635802e-03,\n",
       "         -1.6635802e-03, -1.6635802e-03, -1.6635802e-03, -1.6635802e-03,\n",
       "         -1.6635802e-03, -1.6635802e-03, -1.6635802e-03, -1.6635802e-03,\n",
       "         -1.6635802e-03, -1.6635802e-03, -1.6635802e-03, -1.6635802e-03,\n",
       "         -1.6635802e-03, -1.6635802e-03, -1.6635802e-03, -1.6635802e-03],\n",
       "        [-1.6635802e-03, -1.6635802e-03, -1.6635802e-03, -1.6635802e-03,\n",
       "         -1.6635802e-03, -1.6635802e-03, -1.6635802e-03, -1.6635802e-03,\n",
       "         -1.6635802e-03, -1.6635802e-03, -1.6635802e-03, -1.6635802e-03,\n",
       "         -1.6635802e-03, -1.6635802e-03, -1.6635802e-03, -1.6635802e-03,\n",
       "         -1.6635802e-03, -1.6635802e-03, -1.6635802e-03, -1.6635802e-03,\n",
       "         -1.6635802e-03, -1.6635802e-03, -1.6635802e-03, -1.6635802e-03,\n",
       "         -1.6635802e-03, -1.6635802e-03, -1.6635802e-03, -1.6635802e-03],\n",
       "        [-1.6635802e-03, -1.6635802e-03, -1.6635802e-03, -1.6635802e-03,\n",
       "         -1.6635802e-03, -1.6635802e-03, -1.6635802e-03, -1.6635802e-03,\n",
       "         -1.6635802e-03, -1.6635802e-03, -1.6635802e-03, -1.6635802e-03,\n",
       "         -1.6635802e-03, -1.6635802e-03, -1.6635802e-03, -1.6635802e-03,\n",
       "         -1.6635802e-03, -1.6635802e-03, -1.6635802e-03, -1.6635802e-03,\n",
       "         -1.6635802e-03, -1.6635802e-03, -1.6635802e-03, -1.6635802e-03,\n",
       "         -1.6635802e-03, -1.6635802e-03, -1.6635802e-03, -1.6635802e-03],\n",
       "        [-1.6635802e-03, -1.6635802e-03, -1.6635802e-03, -1.6635802e-03,\n",
       "         -1.6635802e-03, -1.6635802e-03, -1.6635802e-03, -1.6635802e-03,\n",
       "         -1.6635802e-03, -1.6635802e-03, -1.6635802e-03, -1.6635802e-03,\n",
       "         -1.6635802e-03, -1.6635802e-03, -1.6635802e-03, -1.6635802e-03,\n",
       "         -1.6635802e-03, -1.6635802e-03, -1.6635802e-03, -1.6635802e-03,\n",
       "         -1.6635802e-03, -1.6635802e-03, -1.6635802e-03, -1.6635802e-03,\n",
       "         -1.6635802e-03, -1.6635802e-03, -1.6635802e-03, -1.6635802e-03],\n",
       "        [-1.6635802e-03, -1.6635802e-03, -1.6635802e-03, -1.6635802e-03,\n",
       "         -1.6635802e-03, -1.6635802e-03, -1.6635802e-03, -1.6635802e-03,\n",
       "         -1.6635802e-03, -1.6635802e-03, -1.6635802e-03, -1.6635802e-03,\n",
       "         -1.6635802e-03, -1.6635802e-03, -1.6635802e-03, -1.6635802e-03,\n",
       "         -1.6635802e-03, -1.6635802e-03, -1.6635802e-03, -1.6635802e-03,\n",
       "         -1.6635802e-03, -1.6635802e-03, -1.6635802e-03, -1.6635802e-03,\n",
       "         -1.6635802e-03, -1.6635802e-03, -1.6635802e-03, -1.6635802e-03]]],\n",
       "      dtype=float32)"
      ]
     },
     "execution_count": 203,
     "metadata": {},
     "output_type": "execute_result"
    }
   ],
   "source": [
    "train_loader[0]"
   ]
  },
  {
   "cell_type": "code",
   "execution_count": 204,
   "metadata": {},
   "outputs": [
    {
     "name": "stdout",
     "output_type": "stream",
     "text": [
      "50176\n",
      "784000\n"
     ]
    }
   ],
   "source": [
    "\n",
    "#Reshaping all images into 28*28 for pre-processing\n",
    "train_loader =train_loader.reshape(train_loader.shape[0], 28, 28)\n",
    "test_loader = test_loader.reshape(test_loader.shape[0], 28, 28)\n",
    "print(np.size(train_loader))\n",
    "print(np.size(test_loader))"
   ]
  },
  {
   "cell_type": "code",
   "execution_count": 205,
   "metadata": {},
   "outputs": [
    {
     "data": {
      "text/plain": [
       "<function matplotlib.pyplot.show(*args, **kw)>"
      ]
     },
     "execution_count": 205,
     "metadata": {},
     "output_type": "execute_result"
    },
    {
     "data": {
      "image/png": "[encoded data removed]",
      "text/plain": [
       "<Figure size 432x288 with 1 Axes>"
      ]
     },
     "metadata": {
      "needs_background": "light"
     },
     "output_type": "display_data"
    }
   ],
   "source": [
    "\n",
    "from matplotlib import pyplot as plt\n",
    "#Display a random image\n",
    "plt.imshow(test_loader[0])\n",
    "plt.show"
   ]
  },
  {
   "cell_type": "code",
   "execution_count": 206,
   "metadata": {},
   "outputs": [],
   "source": [
    "# a = np.array([1,2,3,4])\n",
    "# s = []\n",
    "# print(type(a))\n",
    "# i=0\n",
    "# for t in a:\n",
    "#     s.append(t-1)\n",
    "# print(s)\n",
    "# print(type(s))"
   ]
  },
  {
   "cell_type": "code",
   "execution_count": 207,
   "metadata": {},
   "outputs": [
    {
     "name": "stdout",
     "output_type": "stream",
     "text": [
      "Process Complete: Rotated and reversed test and train images!\n"
     ]
    },
    {
     "data": {
      "image/png": "[encoded data removed]",
      "text/plain": [
       "<Figure size 432x288 with 1 Axes>"
      ]
     },
     "metadata": {
      "needs_background": "light"
     },
     "output_type": "display_data"
    }
   ],
   "source": [
    "#Now we perform Image preprocessing. We reverse and rotate all train and test images\n",
    "#for train data\n",
    "s = []\n",
    "for t in train_loader:\n",
    "    s.append(np.transpose(t))\n",
    "np.asarray(s)\n",
    "train_loader = s\n",
    "\n",
    "#checking\n",
    "plt.imshow(train_loader[0])\n",
    "plt.show\n",
    "\n",
    "s=[]\n",
    "#for test data  \n",
    "for t in test_loader:\n",
    "    s.append(np.transpose(t))\n",
    "np.asarray(s)\n",
    "test_loader = s\n",
    "#checking\n",
    "plt.imshow(test_loader[0])\n",
    "plt.show\n",
    "\n",
    "print('Process Complete: Rotated and reversed test and train images!')"
   ]
  },
  {
   "cell_type": "code",
   "execution_count": 213,
   "metadata": {},
   "outputs": [
    {
     "ename": "AssertionError",
     "evalue": "",
     "output_type": "error",
     "traceback": [
      "\u001b[1;31m---------------------------------------------------------------------------\u001b[0m",
      "\u001b[1;31mAssertionError\u001b[0m                            Traceback (most recent call last)",
      "\u001b[1;32m<ipython-input-213-4835f744db0a>\u001b[0m in \u001b[0;36m<module>\u001b[1;34m\u001b[0m\n\u001b[0;32m      5\u001b[0m \u001b[1;33m\u001b[0m\u001b[0m\n\u001b[0;32m      6\u001b[0m \u001b[1;33m\u001b[0m\u001b[0m\n\u001b[1;32m----> 7\u001b[1;33m \u001b[0mtr_dataset\u001b[0m \u001b[1;33m=\u001b[0m \u001b[0mtorch\u001b[0m\u001b[1;33m.\u001b[0m\u001b[0mutils\u001b[0m\u001b[1;33m.\u001b[0m\u001b[0mdata\u001b[0m\u001b[1;33m.\u001b[0m\u001b[0mTensorDataset\u001b[0m\u001b[1;33m(\u001b[0m\u001b[0mtensor_tr\u001b[0m\u001b[1;33m,\u001b[0m\u001b[0mtrain_labels\u001b[0m\u001b[1;33m)\u001b[0m \u001b[1;31m# create your datset\u001b[0m\u001b[1;33m\u001b[0m\u001b[1;33m\u001b[0m\u001b[0m\n\u001b[0m\u001b[0;32m      8\u001b[0m \u001b[0mtrain_loader\u001b[0m \u001b[1;33m=\u001b[0m \u001b[0mtorch\u001b[0m\u001b[1;33m.\u001b[0m\u001b[0mutils\u001b[0m\u001b[1;33m.\u001b[0m\u001b[0mdata\u001b[0m\u001b[1;33m.\u001b[0m\u001b[0mDataLoader\u001b[0m\u001b[1;33m(\u001b[0m\u001b[0mtr_dataset\u001b[0m\u001b[1;33m)\u001b[0m \u001b[1;31m# create your dataloader\u001b[0m\u001b[1;33m\u001b[0m\u001b[1;33m\u001b[0m\u001b[0m\n\u001b[0;32m      9\u001b[0m \u001b[1;33m\u001b[0m\u001b[0m\n",
      "\u001b[1;32m~\\Anaconda3\\lib\\site-packages\\torch\\utils\\data\\dataset.py\u001b[0m in \u001b[0;36m__init__\u001b[1;34m(self, *tensors)\u001b[0m\n\u001b[0;32m    156\u001b[0m \u001b[1;33m\u001b[0m\u001b[0m\n\u001b[0;32m    157\u001b[0m     \u001b[1;32mdef\u001b[0m \u001b[0m__init__\u001b[0m\u001b[1;33m(\u001b[0m\u001b[0mself\u001b[0m\u001b[1;33m,\u001b[0m \u001b[1;33m*\u001b[0m\u001b[0mtensors\u001b[0m\u001b[1;33m)\u001b[0m\u001b[1;33m:\u001b[0m\u001b[1;33m\u001b[0m\u001b[1;33m\u001b[0m\u001b[0m\n\u001b[1;32m--> 158\u001b[1;33m         \u001b[1;32massert\u001b[0m \u001b[0mall\u001b[0m\u001b[1;33m(\u001b[0m\u001b[0mtensors\u001b[0m\u001b[1;33m[\u001b[0m\u001b[1;36m0\u001b[0m\u001b[1;33m]\u001b[0m\u001b[1;33m.\u001b[0m\u001b[0msize\u001b[0m\u001b[1;33m(\u001b[0m\u001b[1;36m0\u001b[0m\u001b[1;33m)\u001b[0m \u001b[1;33m==\u001b[0m \u001b[0mtensor\u001b[0m\u001b[1;33m.\u001b[0m\u001b[0msize\u001b[0m\u001b[1;33m(\u001b[0m\u001b[1;36m0\u001b[0m\u001b[1;33m)\u001b[0m \u001b[1;32mfor\u001b[0m \u001b[0mtensor\u001b[0m \u001b[1;32min\u001b[0m \u001b[0mtensors\u001b[0m\u001b[1;33m)\u001b[0m\u001b[1;33m\u001b[0m\u001b[1;33m\u001b[0m\u001b[0m\n\u001b[0m\u001b[0;32m    159\u001b[0m         \u001b[0mself\u001b[0m\u001b[1;33m.\u001b[0m\u001b[0mtensors\u001b[0m \u001b[1;33m=\u001b[0m \u001b[0mtensors\u001b[0m\u001b[1;33m\u001b[0m\u001b[1;33m\u001b[0m\u001b[0m\n\u001b[0;32m    160\u001b[0m \u001b[1;33m\u001b[0m\u001b[0m\n",
      "\u001b[1;31mAssertionError\u001b[0m: "
     ]
    }
   ],
   "source": [
    "# Converting back to dataloader form for giving it as input to model\n",
    "\n",
    "tensor_tr = torch.Tensor(train_loader) # transform to torch tensor\n",
    "tensor_te = torch.Tensor(test_loader)\n",
    "\n",
    "\n",
    "tr_dataset = torch.utils.data.TensorDataset(tensor_tr,train_labels) # create your datset\n",
    "train_loader = torch.utils.data.DataLoader(tr_dataset) # create your dataloader\n",
    "\n",
    "te_dataset = torch.utils.data.TensorDataset(tensor_te,test_labels) # create your datset\n",
    "test_loader = torch.utils.data.DataLoader(te_dataset) # create your dataloader\n",
    "\n",
    "print(type(train_loader))\n",
    "print(type(test_loader))"
   ]
  },
  {
   "cell_type": "code",
   "execution_count": null,
   "metadata": {},
   "outputs": [],
   "source": [
    "# examples = enumerate(test_loader)\n",
    "# batch_idx, (example_data, example_targets) = next(examples,test_labels)"
   ]
  },
  {
   "cell_type": "code",
   "execution_count": null,
   "metadata": {},
   "outputs": [],
   "source": [
    "# example_data.shape"
   ]
  },
  {
   "cell_type": "code",
   "execution_count": null,
   "metadata": {},
   "outputs": [],
   "source": [
    "# import matplotlib.pyplot as plt\n",
    "\n",
    "# fig = plt.figure()\n",
    "# for i in range(100,106):\n",
    "#   plt.subplot(2,3,i+1-100)\n",
    "#   plt.tight_layout()\n",
    "#   plt.imshow(example_data[i][0], cmap='gray', interpolation='none')\n",
    "#   plt.title(\"Ground Truth: {}\".format(example_targets[i]))\n",
    "#   plt.xticks([])\n",
    "#   plt.yticks([])\n"
   ]
  },
  {
   "cell_type": "code",
   "execution_count": null,
   "metadata": {},
   "outputs": [],
   "source": [
    "import torch.nn as nn\n",
    "import torch.nn.functional as F\n",
    "import torch.optim as optim"
   ]
  },
  {
   "cell_type": "code",
   "execution_count": null,
   "metadata": {},
   "outputs": [],
   "source": [
    "class Net(nn.Module):\n",
    "    def __init__(self):\n",
    "        super(Net, self).__init__()\n",
    "        self.conv1 = nn.Conv2d(1, 10, kernel_size=5)\n",
    "        self.conv2 = nn.Conv2d(10, 20, kernel_size=5)\n",
    "        self.conv2_drop = nn.Dropout2d()\n",
    "        self.fc1 = nn.Linear(320, 50)\n",
    "        self.fc2 = nn.Linear(50, 10)\n",
    "\n",
    "    def forward(self, x):\n",
    "        x = F.relu(F.max_pool2d(self.conv1(x), 2))\n",
    "        x = F.relu(F.max_pool2d(self.conv2_drop(self.conv2(x)), 2))\n",
    "        x = x.view(-1, 320)\n",
    "        x = F.relu(self.fc1(x))\n",
    "        x = F.dropout(x, training=self.training)\n",
    "        x = self.fc2(x)\n",
    "        return F.log_softmax(x)"
   ]
  },
  {
   "cell_type": "code",
   "execution_count": null,
   "metadata": {},
   "outputs": [],
   "source": [
    "network = Net()\n",
    "optimizer = optim.SGD(network.parameters(), lr=learning_rate,\n",
    "                      momentum=momentum)"
   ]
  },
  {
   "cell_type": "code",
   "execution_count": null,
   "metadata": {},
   "outputs": [],
   "source": [
    "train_losses = []\n",
    "train_counter = []\n",
    "test_losses = []\n",
    "test_counter = [i*len(train_loader.dataset) for i in range(n_epochs + 1)]"
   ]
  },
  {
   "cell_type": "code",
   "execution_count": 194,
   "metadata": {},
   "outputs": [],
   "source": [
    "def train(epoch):\n",
    "  network.train()\n",
    "  for batch_idx, (data, target) in enumerate(train_loader):\n",
    "    optimizer.zero_grad()\n",
    "    output = network(data)\n",
    "    loss = F.nll_loss(output, target)\n",
    "    loss.backward()\n",
    "    optimizer.step()\n",
    "    if batch_idx % log_interval == 0:\n",
    "      print('Train Epoch: {} [{}/{} ({:.0f}%)]\\tLoss: {:.6f}'.format(\n",
    "        epoch, batch_idx * len(data), len(train_loader.dataset),\n",
    "        100. * batch_idx / len(train_loader), loss.item()))\n",
    "      train_losses.append(loss.item())\n",
    "      train_counter.append((batch_idx*64) + ((epoch-1)*len(train_loader.dataset)))\n",
    "#       torch.save(network.state_dict(), 'results/model.pth')\n",
    "#       torch.save(optimizer.state_dict(), 'results/optimizer.pth')"
   ]
  },
  {
   "cell_type": "code",
   "execution_count": 195,
   "metadata": {},
   "outputs": [],
   "source": [
    "def test():\n",
    "  network.eval()\n",
    "  test_loss = 0\n",
    "  correct = 0\n",
    "  with torch.no_grad():\n",
    "    for data, target in test_loader:\n",
    "      output = network(data)\n",
    "      test_loss += F.nll_loss(output, target, size_average=False).item()\n",
    "      pred = output.data.max(1, keepdim=True)[1]\n",
    "      correct += pred.eq(target.data.view_as(pred)).sum()\n",
    "  test_loss /= len(test_loader.dataset)\n",
    "  test_losses.append(test_loss)\n",
    "  print('\\nTest set: Avg. loss: {:.4f}, Accuracy: {}/{} ({:.0f}%)\\n'.format(\n",
    "    test_loss, correct, len(test_loader.dataset),\n",
    "    100. * correct / len(test_loader.dataset)))"
   ]
  },
  {
   "cell_type": "code",
   "execution_count": 196,
   "metadata": {},
   "outputs": [
    {
     "ename": "ValueError",
     "evalue": "not enough values to unpack (expected 2, got 1)",
     "output_type": "error",
     "traceback": [
      "\u001b[1;31m---------------------------------------------------------------------------\u001b[0m",
      "\u001b[1;31mValueError\u001b[0m                                Traceback (most recent call last)",
      "\u001b[1;32m<ipython-input-196-ef6e122ea50c>\u001b[0m in \u001b[0;36m<module>\u001b[1;34m\u001b[0m\n\u001b[1;32m----> 1\u001b[1;33m \u001b[0mtest\u001b[0m\u001b[1;33m(\u001b[0m\u001b[1;33m)\u001b[0m\u001b[1;33m\u001b[0m\u001b[1;33m\u001b[0m\u001b[0m\n\u001b[0m\u001b[0;32m      2\u001b[0m \u001b[1;32mfor\u001b[0m \u001b[0mepoch\u001b[0m \u001b[1;32min\u001b[0m \u001b[0mrange\u001b[0m\u001b[1;33m(\u001b[0m\u001b[1;36m1\u001b[0m\u001b[1;33m,\u001b[0m \u001b[0mn_epochs\u001b[0m \u001b[1;33m+\u001b[0m \u001b[1;36m1\u001b[0m\u001b[1;33m)\u001b[0m\u001b[1;33m:\u001b[0m\u001b[1;33m\u001b[0m\u001b[1;33m\u001b[0m\u001b[0m\n\u001b[0;32m      3\u001b[0m   \u001b[0mtrain\u001b[0m\u001b[1;33m(\u001b[0m\u001b[0mepoch\u001b[0m\u001b[1;33m)\u001b[0m\u001b[1;33m\u001b[0m\u001b[1;33m\u001b[0m\u001b[0m\n\u001b[0;32m      4\u001b[0m   \u001b[0mtest\u001b[0m\u001b[1;33m(\u001b[0m\u001b[1;33m)\u001b[0m\u001b[1;33m\u001b[0m\u001b[1;33m\u001b[0m\u001b[0m\n",
      "\u001b[1;32m<ipython-input-195-96d20ccab865>\u001b[0m in \u001b[0;36mtest\u001b[1;34m()\u001b[0m\n\u001b[0;32m      4\u001b[0m   \u001b[0mcorrect\u001b[0m \u001b[1;33m=\u001b[0m \u001b[1;36m0\u001b[0m\u001b[1;33m\u001b[0m\u001b[1;33m\u001b[0m\u001b[0m\n\u001b[0;32m      5\u001b[0m   \u001b[1;32mwith\u001b[0m \u001b[0mtorch\u001b[0m\u001b[1;33m.\u001b[0m\u001b[0mno_grad\u001b[0m\u001b[1;33m(\u001b[0m\u001b[1;33m)\u001b[0m\u001b[1;33m:\u001b[0m\u001b[1;33m\u001b[0m\u001b[1;33m\u001b[0m\u001b[0m\n\u001b[1;32m----> 6\u001b[1;33m     \u001b[1;32mfor\u001b[0m \u001b[0mdata\u001b[0m\u001b[1;33m,\u001b[0m \u001b[0mtarget\u001b[0m \u001b[1;32min\u001b[0m \u001b[0mtest_loader\u001b[0m\u001b[1;33m:\u001b[0m\u001b[1;33m\u001b[0m\u001b[1;33m\u001b[0m\u001b[0m\n\u001b[0m\u001b[0;32m      7\u001b[0m       \u001b[0moutput\u001b[0m \u001b[1;33m=\u001b[0m \u001b[0mnetwork\u001b[0m\u001b[1;33m(\u001b[0m\u001b[0mdata\u001b[0m\u001b[1;33m)\u001b[0m\u001b[1;33m\u001b[0m\u001b[1;33m\u001b[0m\u001b[0m\n\u001b[0;32m      8\u001b[0m       \u001b[0mtest_loss\u001b[0m \u001b[1;33m+=\u001b[0m \u001b[0mF\u001b[0m\u001b[1;33m.\u001b[0m\u001b[0mnll_loss\u001b[0m\u001b[1;33m(\u001b[0m\u001b[0moutput\u001b[0m\u001b[1;33m,\u001b[0m \u001b[0mtarget\u001b[0m\u001b[1;33m,\u001b[0m \u001b[0msize_average\u001b[0m\u001b[1;33m=\u001b[0m\u001b[1;32mFalse\u001b[0m\u001b[1;33m)\u001b[0m\u001b[1;33m.\u001b[0m\u001b[0mitem\u001b[0m\u001b[1;33m(\u001b[0m\u001b[1;33m)\u001b[0m\u001b[1;33m\u001b[0m\u001b[1;33m\u001b[0m\u001b[0m\n",
      "\u001b[1;31mValueError\u001b[0m: not enough values to unpack (expected 2, got 1)"
     ]
    }
   ],
   "source": [
    "test()\n",
    "for epoch in range(1, n_epochs + 1):\n",
    "  train(epoch)\n",
    "  test()"
   ]
  },
  {
   "cell_type": "code",
   "execution_count": null,
   "metadata": {},
   "outputs": [],
   "source": [
    "fig = plt.figure()\n",
    "plt.plot(train_counter, train_losses, color='blue')\n",
    "plt.scatter(test_counter, test_losses, color='red')\n",
    "plt.legend(['Train Loss', 'Test Loss'], loc='upper right')\n",
    "plt.xlabel('number of training examples seen')\n",
    "plt.ylabel('negative log likelihood loss')\n"
   ]
  },
  {
   "cell_type": "code",
   "execution_count": null,
   "metadata": {},
   "outputs": [],
   "source": [
    "with torch.no_grad():\n",
    "  output = network(example_data)"
   ]
  },
  {
   "cell_type": "code",
   "execution_count": null,
   "metadata": {},
   "outputs": [],
   "source": [
    "fig = plt.figure()\n",
    "for i in range(100,112):\n",
    "  plt.subplot(3,4,i+1-100)\n",
    "  plt.tight_layout()\n",
    "  plt.imshow(example_data[i][0], cmap='gray', interpolation='none')\n",
    "  plt.title(\"Prediction: {}\".format(\n",
    "    output.data.max(1, keepdim=True)[1][i].item()))\n",
    "  plt.xticks([])\n",
    "  plt.yticks([])\n"
   ]
  },
  {
   "cell_type": "code",
   "execution_count": null,
   "metadata": {},
   "outputs": [],
   "source": []
  },
  {
   "cell_type": "code",
   "execution_count": null,
   "metadata": {},
   "outputs": [],
   "source": []
  },
  {
   "cell_type": "code",
   "execution_count": null,
   "metadata": {},
   "outputs": [],
   "source": []
  }
 ],
 "metadata": {
  "kernelspec": {
   "display_name": "Python 3",
   "language": "python",
   "name": "python3"
  },
  "language_info": {
   "codemirror_mode": {
    "name": "ipython",
    "version": 3
   },
   "file_extension": ".py",
   "mimetype": "text/x-python",
   "name": "python",
   "nbconvert_exporter": "python",
   "pygments_lexer": "ipython3",
   "version": "3.7.4"
  }
 },
 "nbformat": 4,
 "nbformat_minor": 2
}
