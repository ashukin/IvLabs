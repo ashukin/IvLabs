{
 "cells": [
  {
   "cell_type": "code",
   "execution_count": 56,
   "metadata": {},
   "outputs": [],
   "source": [
    "import torch\n",
    "import torchvision"
   ]
  },
  {
   "cell_type": "code",
   "execution_count": 57,
   "metadata": {},
   "outputs": [
    {
     "data": {
      "text/plain": [
       "<torch._C.Generator at 0x216002f3170>"
      ]
     },
     "execution_count": 57,
     "metadata": {},
     "output_type": "execute_result"
    }
   ],
   "source": [
    "n_epochs = 3\n",
    "batch_size_train = 64\n",
    "batch_size_test = 1000\n",
    "learning_rate = 0.01\n",
    "momentum = 0.5\n",
    "log_interval = 10\n",
    "\n",
    "random_seed = 1\n",
    "torch.backends.cudnn.enabled = False\n",
    "torch.manual_seed(random_seed)"
   ]
  },
  {
   "cell_type": "code",
   "execution_count": 58,
   "metadata": {},
   "outputs": [],
   "source": [
    "train_loader = torch.utils.data.DataLoader(\n",
    "  torchvision.datasets.MNIST('/files/',train=True, download=True,\n",
    "                             transform=torchvision.transforms.Compose([\n",
    "                               torchvision.transforms.ToTensor(),\n",
    "                               torchvision.transforms.Normalize(\n",
    "                                 (0.1307,), (0.3081,))\n",
    "                             ])),\n",
    "  batch_size=batch_size_train, shuffle=True)\n",
    "\n",
    "test_loader = torch.utils.data.DataLoader(\n",
    "  torchvision.datasets.MNIST('/files/', train=False, download=True,\n",
    "                             transform=torchvision.transforms.Compose([\n",
    "                               torchvision.transforms.ToTensor(),\n",
    "                               torchvision.transforms.Normalize(\n",
    "                                 (0.1307,), (0.3081,))\n",
    "                             ])),\n",
    "  batch_size=batch_size_test, shuffle=True)"
   ]
  },
  {
   "cell_type": "code",
   "execution_count": 59,
   "metadata": {},
   "outputs": [],
   "source": [
    "examples = enumerate(test_loader)\n",
    "batch_idx, (example_data, example_targets) = next(examples)"
   ]
  },
  {
   "cell_type": "code",
   "execution_count": 60,
   "metadata": {},
   "outputs": [
    {
     "data": {
      "text/plain": [
       "torch.Size([1000, 1, 28, 28])"
      ]
     },
     "execution_count": 60,
     "metadata": {},
     "output_type": "execute_result"
    }
   ],
   "source": [
    "example_data.shape"
   ]
  },
  {
   "cell_type": "code",
   "execution_count": 61,
   "metadata": {
    "scrolled": true
   },
   "outputs": [
    {
     "data": {
      "image/png": "[encoded data removed]",
      "text/plain": [
       "<Figure size 432x288 with 6 Axes>"
      ]
     },
     "metadata": {},
     "output_type": "display_data"
    }
   ],
   "source": [
    "import matplotlib.pyplot as plt\n",
    "\n",
    "fig = plt.figure()\n",
    "for i in range(6):\n",
    "  plt.subplot(2,3,i+1)\n",
    "  plt.tight_layout()\n",
    "  plt.imshow(example_data[i][0], cmap='gray', interpolation='none')\n",
    "  plt.title(\"Ground Truth: {}\".format(example_targets[i]))\n",
    "  plt.xticks([])\n",
    "  plt.yticks([])\n"
   ]
  },
  {
   "cell_type": "code",
   "execution_count": 62,
   "metadata": {},
   "outputs": [],
   "source": [
    "import torch.nn as nn\n",
    "import torch.nn.functional as F\n",
    "import torch.optim as optim"
   ]
  },
  {
   "cell_type": "code",
   "execution_count": 63,
   "metadata": {},
   "outputs": [],
   "source": [
    "class Net(nn.Module):\n",
    "    def __init__(self):\n",
    "        super(Net, self).__init__()\n",
    "        self.conv1 = nn.Conv2d(1, 10, kernel_size=5)\n",
    "        self.conv2 = nn.Conv2d(10, 20, kernel_size=5)\n",
    "        self.conv2_drop = nn.Dropout2d()\n",
    "        self.fc1 = nn.Linear(320, 50)\n",
    "        self.fc2 = nn.Linear(50, 10)\n",
    "\n",
    "    def forward(self, x):\n",
    "        x = F.relu(F.max_pool2d(self.conv1(x), 2))\n",
    "        x = F.relu(F.max_pool2d(self.conv2_drop(self.conv2(x)), 2))\n",
    "        x = x.view(-1, 320)\n",
    "        x = F.relu(self.fc1(x))\n",
    "        x = F.dropout(x, training=self.training)\n",
    "        x = self.fc2(x)\n",
    "        return F.log_softmax(x)"
   ]
  },
  {
   "cell_type": "code",
   "execution_count": 64,
   "metadata": {},
   "outputs": [],
   "source": [
    "network = Net()\n",
    "optimizer = optim.SGD(network.parameters(), lr=learning_rate,\n",
    "                      momentum=momentum)"
   ]
  },
  {
   "cell_type": "code",
   "execution_count": 65,
   "metadata": {},
   "outputs": [],
   "source": [
    "train_losses = []\n",
    "train_counter = []\n",
    "test_losses = []\n",
    "test_counter = [i*len(train_loader.dataset) for i in range(n_epochs + 1)]"
   ]
  },
  {
   "cell_type": "code",
   "execution_count": 66,
   "metadata": {},
   "outputs": [],
   "source": [
    "def train(epoch):\n",
    "  network.train()\n",
    "  for batch_idx, (data, target) in enumerate(train_loader):\n",
    "    optimizer.zero_grad()\n",
    "    output = network(data)\n",
    "    loss = F.nll_loss(output, target)\n",
    "    loss.backward()\n",
    "    optimizer.step()\n",
    "    if batch_idx % log_interval == 0:\n",
    "      print('Train Epoch: {} [{}/{} ({:.0f}%)]\\tLoss: {:.6f}'.format(\n",
    "        epoch, batch_idx * len(data), len(train_loader.dataset),\n",
    "        100. * batch_idx / len(train_loader), loss.item()))\n",
    "      train_losses.append(loss.item())\n",
    "      train_counter.append((batch_idx*64) + ((epoch-1)*len(train_loader.dataset)))\n",
    "#       torch.save(network.state_dict(), 'results/model.pth')\n",
    "#       torch.save(optimizer.state_dict(), 'results/optimizer.pth')"
   ]
  },
  {
   "cell_type": "code",
   "execution_count": 67,
   "metadata": {},
   "outputs": [],
   "source": [
    "def test():\n",
    "  network.eval()\n",
    "  test_loss = 0\n",
    "  correct = 0\n",
    "  with torch.no_grad():\n",
    "    for data, target in test_loader:\n",
    "      output = network(data)\n",
    "      test_loss += F.nll_loss(output, target, size_average=False).item()\n",
    "      pred = output.data.max(1, keepdim=True)[1]\n",
    "      correct += pred.eq(target.data.view_as(pred)).sum()\n",
    "  test_loss /= len(test_loader.dataset)\n",
    "  test_losses.append(test_loss)\n",
    "  print('\\nTest set: Avg. loss: {:.4f}, Accuracy: {}/{} ({:.0f}%)\\n'.format(\n",
    "    test_loss, correct, len(test_loader.dataset),\n",
    "    100. * correct / len(test_loader.dataset)))"
   ]
  },
  {
   "cell_type": "code",
   "execution_count": 68,
   "metadata": {},
   "outputs": [
    {
     "name": "stderr",
     "output_type": "stream",
     "text": [
      "C:\\Users\\Akshata\\Anaconda3\\lib\\site-packages\\ipykernel_launcher.py:17: UserWarning: Implicit dimension choice for log_softmax has been deprecated. Change the call to include dim=X as an argument.\n",
      "C:\\Users\\Akshata\\Anaconda3\\lib\\site-packages\\torch\\nn\\_reduction.py:43: UserWarning: size_average and reduce args will be deprecated, please use reduction='sum' instead.\n",
      "  warnings.warn(warning.format(ret))\n"
     ]
    },
    {
     "name": "stdout",
     "output_type": "stream",
     "text": [
      "\n",
      "Test set: Avg. loss: 2.3004, Accuracy: 751/10000 (8%)\n",
      "\n",
      "Train Epoch: 1 [0/60000 (0%)]\tLoss: 2.268457\n",
      "Train Epoch: 1 [640/60000 (1%)]\tLoss: 2.268337\n",
      "Train Epoch: 1 [1280/60000 (2%)]\tLoss: 2.274000\n",
      "Train Epoch: 1 [1920/60000 (3%)]\tLoss: 2.251669\n",
      "Train Epoch: 1 [2560/60000 (4%)]\tLoss: 2.236826\n",
      "Train Epoch: 1 [3200/60000 (5%)]\tLoss: 2.223578\n",
      "Train Epoch: 1 [3840/60000 (6%)]\tLoss: 2.153432\n",
      "Train Epoch: 1 [4480/60000 (7%)]\tLoss: 2.096480\n",
      "Train Epoch: 1 [5120/60000 (9%)]\tLoss: 1.974480\n",
      "Train Epoch: 1 [5760/60000 (10%)]\tLoss: 1.944769\n",
      "Train Epoch: 1 [6400/60000 (11%)]\tLoss: 1.839859\n",
      "Train Epoch: 1 [7040/60000 (12%)]\tLoss: 1.767560\n",
      "Train Epoch: 1 [7680/60000 (13%)]\tLoss: 1.698696\n",
      "Train Epoch: 1 [8320/60000 (14%)]\tLoss: 1.683218\n",
      "Train Epoch: 1 [8960/60000 (15%)]\tLoss: 1.504576\n",
      "Train Epoch: 1 [9600/60000 (16%)]\tLoss: 1.390304\n",
      "Train Epoch: 1 [10240/60000 (17%)]\tLoss: 1.288033\n",
      "Train Epoch: 1 [10880/60000 (18%)]\tLoss: 1.330192\n",
      "Train Epoch: 1 [11520/60000 (19%)]\tLoss: 1.279881\n",
      "Train Epoch: 1 [12160/60000 (20%)]\tLoss: 1.235903\n",
      "Train Epoch: 1 [12800/60000 (21%)]\tLoss: 0.930023\n",
      "Train Epoch: 1 [13440/60000 (22%)]\tLoss: 1.402368\n",
      "Train Epoch: 1 [14080/60000 (23%)]\tLoss: 0.963491\n",
      "Train Epoch: 1 [14720/60000 (25%)]\tLoss: 1.106471\n",
      "Train Epoch: 1 [15360/60000 (26%)]\tLoss: 0.952837\n",
      "Train Epoch: 1 [16000/60000 (27%)]\tLoss: 1.047001\n",
      "Train Epoch: 1 [16640/60000 (28%)]\tLoss: 0.954358\n",
      "Train Epoch: 1 [17280/60000 (29%)]\tLoss: 0.828907\n",
      "Train Epoch: 1 [17920/60000 (30%)]\tLoss: 1.111176\n",
      "Train Epoch: 1 [18560/60000 (31%)]\tLoss: 0.642806\n",
      "Train Epoch: 1 [19200/60000 (32%)]\tLoss: 0.934718\n",
      "Train Epoch: 1 [19840/60000 (33%)]\tLoss: 0.790046\n",
      "Train Epoch: 1 [20480/60000 (34%)]\tLoss: 0.802283\n",
      "Train Epoch: 1 [21120/60000 (35%)]\tLoss: 0.750042\n",
      "Train Epoch: 1 [21760/60000 (36%)]\tLoss: 0.943396\n",
      "Train Epoch: 1 [22400/60000 (37%)]\tLoss: 0.623172\n",
      "Train Epoch: 1 [23040/60000 (38%)]\tLoss: 0.866612\n",
      "Train Epoch: 1 [23680/60000 (39%)]\tLoss: 0.644719\n",
      "Train Epoch: 1 [24320/60000 (41%)]\tLoss: 0.809948\n",
      "Train Epoch: 1 [24960/60000 (42%)]\tLoss: 0.837900\n",
      "Train Epoch: 1 [25600/60000 (43%)]\tLoss: 0.776165\n",
      "Train Epoch: 1 [26240/60000 (44%)]\tLoss: 0.717731\n",
      "Train Epoch: 1 [26880/60000 (45%)]\tLoss: 0.755201\n",
      "Train Epoch: 1 [27520/60000 (46%)]\tLoss: 0.726456\n",
      "Train Epoch: 1 [28160/60000 (47%)]\tLoss: 0.796208\n",
      "Train Epoch: 1 [28800/60000 (48%)]\tLoss: 0.709765\n",
      "Train Epoch: 1 [29440/60000 (49%)]\tLoss: 0.651264\n",
      "Train Epoch: 1 [30080/60000 (50%)]\tLoss: 1.037822\n",
      "Train Epoch: 1 [30720/60000 (51%)]\tLoss: 0.662075\n",
      "Train Epoch: 1 [31360/60000 (52%)]\tLoss: 0.901230\n",
      "Train Epoch: 1 [32000/60000 (53%)]\tLoss: 0.715833\n",
      "Train Epoch: 1 [32640/60000 (54%)]\tLoss: 0.688997\n",
      "Train Epoch: 1 [33280/60000 (55%)]\tLoss: 0.560929\n",
      "Train Epoch: 1 [33920/60000 (57%)]\tLoss: 0.469753\n",
      "Train Epoch: 1 [34560/60000 (58%)]\tLoss: 0.778595\n",
      "Train Epoch: 1 [35200/60000 (59%)]\tLoss: 0.471162\n",
      "Train Epoch: 1 [35840/60000 (60%)]\tLoss: 0.765782\n",
      "Train Epoch: 1 [36480/60000 (61%)]\tLoss: 0.343489\n",
      "Train Epoch: 1 [37120/60000 (62%)]\tLoss: 0.403971\n",
      "Train Epoch: 1 [37760/60000 (63%)]\tLoss: 0.561303\n",
      "Train Epoch: 1 [38400/60000 (64%)]\tLoss: 0.735865\n",
      "Train Epoch: 1 [39040/60000 (65%)]\tLoss: 0.441713\n",
      "Train Epoch: 1 [39680/60000 (66%)]\tLoss: 0.494867\n",
      "Train Epoch: 1 [40320/60000 (67%)]\tLoss: 0.590415\n",
      "Train Epoch: 1 [40960/60000 (68%)]\tLoss: 0.446203\n",
      "Train Epoch: 1 [41600/60000 (69%)]\tLoss: 0.402183\n",
      "Train Epoch: 1 [42240/60000 (70%)]\tLoss: 0.603075\n",
      "Train Epoch: 1 [42880/60000 (71%)]\tLoss: 0.600106\n",
      "Train Epoch: 1 [43520/60000 (72%)]\tLoss: 0.553031\n",
      "Train Epoch: 1 [44160/60000 (74%)]\tLoss: 0.479165\n",
      "Train Epoch: 1 [44800/60000 (75%)]\tLoss: 0.593159\n",
      "Train Epoch: 1 [45440/60000 (76%)]\tLoss: 0.675810\n",
      "Train Epoch: 1 [46080/60000 (77%)]\tLoss: 0.561782\n",
      "Train Epoch: 1 [46720/60000 (78%)]\tLoss: 0.876094\n",
      "Train Epoch: 1 [47360/60000 (79%)]\tLoss: 0.379616\n",
      "Train Epoch: 1 [48000/60000 (80%)]\tLoss: 0.460303\n",
      "Train Epoch: 1 [48640/60000 (81%)]\tLoss: 0.354193\n",
      "Train Epoch: 1 [49280/60000 (82%)]\tLoss: 0.594515\n",
      "Train Epoch: 1 [49920/60000 (83%)]\tLoss: 0.394768\n",
      "Train Epoch: 1 [50560/60000 (84%)]\tLoss: 0.379436\n",
      "Train Epoch: 1 [51200/60000 (85%)]\tLoss: 0.795403\n",
      "Train Epoch: 1 [51840/60000 (86%)]\tLoss: 0.459800\n",
      "Train Epoch: 1 [52480/60000 (87%)]\tLoss: 0.645338\n",
      "Train Epoch: 1 [53120/60000 (88%)]\tLoss: 0.756048\n",
      "Train Epoch: 1 [53760/60000 (90%)]\tLoss: 0.567990\n",
      "Train Epoch: 1 [54400/60000 (91%)]\tLoss: 0.445192\n",
      "Train Epoch: 1 [55040/60000 (92%)]\tLoss: 0.701555\n",
      "Train Epoch: 1 [55680/60000 (93%)]\tLoss: 0.475277\n",
      "Train Epoch: 1 [56320/60000 (94%)]\tLoss: 0.533184\n",
      "Train Epoch: 1 [56960/60000 (95%)]\tLoss: 0.559872\n",
      "Train Epoch: 1 [57600/60000 (96%)]\tLoss: 0.341309\n",
      "Train Epoch: 1 [58240/60000 (97%)]\tLoss: 0.482387\n",
      "Train Epoch: 1 [58880/60000 (98%)]\tLoss: 0.320387\n",
      "Train Epoch: 1 [59520/60000 (99%)]\tLoss: 0.478524\n",
      "\n",
      "Test set: Avg. loss: 0.1975, Accuracy: 9446/10000 (94%)\n",
      "\n",
      "Train Epoch: 2 [0/60000 (0%)]\tLoss: 0.538205\n",
      "Train Epoch: 2 [640/60000 (1%)]\tLoss: 0.306908\n",
      "Train Epoch: 2 [1280/60000 (2%)]\tLoss: 0.393558\n",
      "Train Epoch: 2 [1920/60000 (3%)]\tLoss: 0.300776\n",
      "Train Epoch: 2 [2560/60000 (4%)]\tLoss: 0.453106\n",
      "Train Epoch: 2 [3200/60000 (5%)]\tLoss: 0.699004\n",
      "Train Epoch: 2 [3840/60000 (6%)]\tLoss: 0.544091\n",
      "Train Epoch: 2 [4480/60000 (7%)]\tLoss: 0.445986\n",
      "Train Epoch: 2 [5120/60000 (9%)]\tLoss: 0.394806\n",
      "Train Epoch: 2 [5760/60000 (10%)]\tLoss: 0.486376\n",
      "Train Epoch: 2 [6400/60000 (11%)]\tLoss: 0.506037\n",
      "Train Epoch: 2 [7040/60000 (12%)]\tLoss: 0.422011\n",
      "Train Epoch: 2 [7680/60000 (13%)]\tLoss: 0.314449\n",
      "Train Epoch: 2 [8320/60000 (14%)]\tLoss: 0.359260\n",
      "Train Epoch: 2 [8960/60000 (15%)]\tLoss: 0.394359\n",
      "Train Epoch: 2 [9600/60000 (16%)]\tLoss: 0.412598\n",
      "Train Epoch: 2 [10240/60000 (17%)]\tLoss: 0.403530\n",
      "Train Epoch: 2 [10880/60000 (18%)]\tLoss: 0.597292\n",
      "Train Epoch: 2 [11520/60000 (19%)]\tLoss: 0.554370\n",
      "Train Epoch: 2 [12160/60000 (20%)]\tLoss: 0.498975\n",
      "Train Epoch: 2 [12800/60000 (21%)]\tLoss: 0.409576\n",
      "Train Epoch: 2 [13440/60000 (22%)]\tLoss: 0.489847\n",
      "Train Epoch: 2 [14080/60000 (23%)]\tLoss: 0.376785\n",
      "Train Epoch: 2 [14720/60000 (25%)]\tLoss: 0.331366\n",
      "Train Epoch: 2 [15360/60000 (26%)]\tLoss: 0.573545\n",
      "Train Epoch: 2 [16000/60000 (27%)]\tLoss: 0.378284\n",
      "Train Epoch: 2 [16640/60000 (28%)]\tLoss: 0.528218\n",
      "Train Epoch: 2 [17280/60000 (29%)]\tLoss: 0.390278\n",
      "Train Epoch: 2 [17920/60000 (30%)]\tLoss: 0.343877\n",
      "Train Epoch: 2 [18560/60000 (31%)]\tLoss: 0.373837\n",
      "Train Epoch: 2 [19200/60000 (32%)]\tLoss: 0.502588\n",
      "Train Epoch: 2 [19840/60000 (33%)]\tLoss: 0.354901\n",
      "Train Epoch: 2 [20480/60000 (34%)]\tLoss: 0.408615\n",
      "Train Epoch: 2 [21120/60000 (35%)]\tLoss: 0.700296\n",
      "Train Epoch: 2 [21760/60000 (36%)]\tLoss: 0.433580\n",
      "Train Epoch: 2 [22400/60000 (37%)]\tLoss: 0.426158\n",
      "Train Epoch: 2 [23040/60000 (38%)]\tLoss: 0.479238\n",
      "Train Epoch: 2 [23680/60000 (39%)]\tLoss: 0.425931\n",
      "Train Epoch: 2 [24320/60000 (41%)]\tLoss: 0.331691\n",
      "Train Epoch: 2 [24960/60000 (42%)]\tLoss: 0.338170\n",
      "Train Epoch: 2 [25600/60000 (43%)]\tLoss: 0.466032\n",
      "Train Epoch: 2 [26240/60000 (44%)]\tLoss: 0.341826\n",
      "Train Epoch: 2 [26880/60000 (45%)]\tLoss: 0.444716\n",
      "Train Epoch: 2 [27520/60000 (46%)]\tLoss: 0.372395\n",
      "Train Epoch: 2 [28160/60000 (47%)]\tLoss: 0.329502\n",
      "Train Epoch: 2 [28800/60000 (48%)]\tLoss: 0.481849\n",
      "Train Epoch: 2 [29440/60000 (49%)]\tLoss: 0.457508\n",
      "Train Epoch: 2 [30080/60000 (50%)]\tLoss: 0.652918\n",
      "Train Epoch: 2 [30720/60000 (51%)]\tLoss: 0.359805\n",
      "Train Epoch: 2 [31360/60000 (52%)]\tLoss: 0.403070\n",
      "Train Epoch: 2 [32000/60000 (53%)]\tLoss: 0.451912\n",
      "Train Epoch: 2 [32640/60000 (54%)]\tLoss: 0.334037\n",
      "Train Epoch: 2 [33280/60000 (55%)]\tLoss: 0.269655\n",
      "Train Epoch: 2 [33920/60000 (57%)]\tLoss: 0.381733\n",
      "Train Epoch: 2 [34560/60000 (58%)]\tLoss: 0.431422\n",
      "Train Epoch: 2 [35200/60000 (59%)]\tLoss: 0.617500\n",
      "Train Epoch: 2 [35840/60000 (60%)]\tLoss: 0.215342\n",
      "Train Epoch: 2 [36480/60000 (61%)]\tLoss: 0.484803\n",
      "Train Epoch: 2 [37120/60000 (62%)]\tLoss: 0.392187\n",
      "Train Epoch: 2 [37760/60000 (63%)]\tLoss: 0.352930\n",
      "Train Epoch: 2 [38400/60000 (64%)]\tLoss: 0.204298\n",
      "Train Epoch: 2 [39040/60000 (65%)]\tLoss: 0.321473\n",
      "Train Epoch: 2 [39680/60000 (66%)]\tLoss: 0.381764\n",
      "Train Epoch: 2 [40320/60000 (67%)]\tLoss: 0.352886\n",
      "Train Epoch: 2 [40960/60000 (68%)]\tLoss: 0.375034\n",
      "Train Epoch: 2 [41600/60000 (69%)]\tLoss: 0.323164\n",
      "Train Epoch: 2 [42240/60000 (70%)]\tLoss: 0.176311\n",
      "Train Epoch: 2 [42880/60000 (71%)]\tLoss: 0.235899\n"
     ]
    },
    {
     "name": "stdout",
     "output_type": "stream",
     "text": [
      "Train Epoch: 2 [43520/60000 (72%)]\tLoss: 0.374421\n",
      "Train Epoch: 2 [44160/60000 (74%)]\tLoss: 0.387693\n",
      "Train Epoch: 2 [44800/60000 (75%)]\tLoss: 0.450197\n",
      "Train Epoch: 2 [45440/60000 (76%)]\tLoss: 0.458438\n",
      "Train Epoch: 2 [46080/60000 (77%)]\tLoss: 0.417047\n",
      "Train Epoch: 2 [46720/60000 (78%)]\tLoss: 0.269288\n",
      "Train Epoch: 2 [47360/60000 (79%)]\tLoss: 0.271158\n",
      "Train Epoch: 2 [48000/60000 (80%)]\tLoss: 0.504636\n",
      "Train Epoch: 2 [48640/60000 (81%)]\tLoss: 0.354941\n",
      "Train Epoch: 2 [49280/60000 (82%)]\tLoss: 0.372075\n",
      "Train Epoch: 2 [49920/60000 (83%)]\tLoss: 0.315951\n",
      "Train Epoch: 2 [50560/60000 (84%)]\tLoss: 0.280185\n",
      "Train Epoch: 2 [51200/60000 (85%)]\tLoss: 0.441458\n",
      "Train Epoch: 2 [51840/60000 (86%)]\tLoss: 0.194327\n",
      "Train Epoch: 2 [52480/60000 (87%)]\tLoss: 0.411542\n",
      "Train Epoch: 2 [53120/60000 (88%)]\tLoss: 0.400200\n",
      "Train Epoch: 2 [53760/60000 (90%)]\tLoss: 0.297464\n",
      "Train Epoch: 2 [54400/60000 (91%)]\tLoss: 0.326293\n",
      "Train Epoch: 2 [55040/60000 (92%)]\tLoss: 0.375171\n",
      "Train Epoch: 2 [55680/60000 (93%)]\tLoss: 0.652818\n",
      "Train Epoch: 2 [56320/60000 (94%)]\tLoss: 0.323427\n",
      "Train Epoch: 2 [56960/60000 (95%)]\tLoss: 0.576891\n",
      "Train Epoch: 2 [57600/60000 (96%)]\tLoss: 0.379250\n",
      "Train Epoch: 2 [58240/60000 (97%)]\tLoss: 0.285767\n",
      "Train Epoch: 2 [58880/60000 (98%)]\tLoss: 0.214941\n",
      "Train Epoch: 2 [59520/60000 (99%)]\tLoss: 0.350385\n",
      "\n",
      "Test set: Avg. loss: 0.1277, Accuracy: 9613/10000 (96%)\n",
      "\n",
      "Train Epoch: 3 [0/60000 (0%)]\tLoss: 0.284437\n",
      "Train Epoch: 3 [640/60000 (1%)]\tLoss: 0.323448\n",
      "Train Epoch: 3 [1280/60000 (2%)]\tLoss: 0.377740\n",
      "Train Epoch: 3 [1920/60000 (3%)]\tLoss: 0.270209\n",
      "Train Epoch: 3 [2560/60000 (4%)]\tLoss: 0.383800\n",
      "Train Epoch: 3 [3200/60000 (5%)]\tLoss: 0.445399\n",
      "Train Epoch: 3 [3840/60000 (6%)]\tLoss: 0.408422\n",
      "Train Epoch: 3 [4480/60000 (7%)]\tLoss: 0.146964\n",
      "Train Epoch: 3 [5120/60000 (9%)]\tLoss: 0.246517\n",
      "Train Epoch: 3 [5760/60000 (10%)]\tLoss: 0.417996\n",
      "Train Epoch: 3 [6400/60000 (11%)]\tLoss: 0.359591\n",
      "Train Epoch: 3 [7040/60000 (12%)]\tLoss: 0.261860\n",
      "Train Epoch: 3 [7680/60000 (13%)]\tLoss: 0.385838\n",
      "Train Epoch: 3 [8320/60000 (14%)]\tLoss: 0.235673\n",
      "Train Epoch: 3 [8960/60000 (15%)]\tLoss: 0.406089\n",
      "Train Epoch: 3 [9600/60000 (16%)]\tLoss: 0.375351\n",
      "Train Epoch: 3 [10240/60000 (17%)]\tLoss: 0.440201\n",
      "Train Epoch: 3 [10880/60000 (18%)]\tLoss: 0.336133\n",
      "Train Epoch: 3 [11520/60000 (19%)]\tLoss: 0.253099\n",
      "Train Epoch: 3 [12160/60000 (20%)]\tLoss: 0.465759\n",
      "Train Epoch: 3 [12800/60000 (21%)]\tLoss: 0.291149\n",
      "Train Epoch: 3 [13440/60000 (22%)]\tLoss: 0.199072\n",
      "Train Epoch: 3 [14080/60000 (23%)]\tLoss: 0.216856\n",
      "Train Epoch: 3 [14720/60000 (25%)]\tLoss: 0.279268\n",
      "Train Epoch: 3 [15360/60000 (26%)]\tLoss: 0.206151\n",
      "Train Epoch: 3 [16000/60000 (27%)]\tLoss: 0.417840\n",
      "Train Epoch: 3 [16640/60000 (28%)]\tLoss: 0.277965\n",
      "Train Epoch: 3 [17280/60000 (29%)]\tLoss: 0.461709\n",
      "Train Epoch: 3 [17920/60000 (30%)]\tLoss: 0.273927\n",
      "Train Epoch: 3 [18560/60000 (31%)]\tLoss: 0.171151\n",
      "Train Epoch: 3 [19200/60000 (32%)]\tLoss: 0.573599\n",
      "Train Epoch: 3 [19840/60000 (33%)]\tLoss: 0.234231\n",
      "Train Epoch: 3 [20480/60000 (34%)]\tLoss: 0.323727\n",
      "Train Epoch: 3 [21120/60000 (35%)]\tLoss: 0.313763\n",
      "Train Epoch: 3 [21760/60000 (36%)]\tLoss: 0.277383\n",
      "Train Epoch: 3 [22400/60000 (37%)]\tLoss: 0.328610\n",
      "Train Epoch: 3 [23040/60000 (38%)]\tLoss: 0.445481\n",
      "Train Epoch: 3 [23680/60000 (39%)]\tLoss: 0.286066\n",
      "Train Epoch: 3 [24320/60000 (41%)]\tLoss: 0.317391\n",
      "Train Epoch: 3 [24960/60000 (42%)]\tLoss: 0.137879\n",
      "Train Epoch: 3 [25600/60000 (43%)]\tLoss: 0.278185\n",
      "Train Epoch: 3 [26240/60000 (44%)]\tLoss: 0.465207\n",
      "Train Epoch: 3 [26880/60000 (45%)]\tLoss: 0.253631\n",
      "Train Epoch: 3 [27520/60000 (46%)]\tLoss: 0.390211\n",
      "Train Epoch: 3 [28160/60000 (47%)]\tLoss: 0.239361\n",
      "Train Epoch: 3 [28800/60000 (48%)]\tLoss: 0.150240\n",
      "Train Epoch: 3 [29440/60000 (49%)]\tLoss: 0.190890\n",
      "Train Epoch: 3 [30080/60000 (50%)]\tLoss: 0.235645\n",
      "Train Epoch: 3 [30720/60000 (51%)]\tLoss: 0.304036\n",
      "Train Epoch: 3 [31360/60000 (52%)]\tLoss: 0.346593\n",
      "Train Epoch: 3 [32000/60000 (53%)]\tLoss: 0.313833\n",
      "Train Epoch: 3 [32640/60000 (54%)]\tLoss: 0.369125\n",
      "Train Epoch: 3 [33280/60000 (55%)]\tLoss: 0.345745\n",
      "Train Epoch: 3 [33920/60000 (57%)]\tLoss: 0.182200\n",
      "Train Epoch: 3 [34560/60000 (58%)]\tLoss: 0.321918\n",
      "Train Epoch: 3 [35200/60000 (59%)]\tLoss: 0.176125\n",
      "Train Epoch: 3 [35840/60000 (60%)]\tLoss: 0.321007\n",
      "Train Epoch: 3 [36480/60000 (61%)]\tLoss: 0.185102\n",
      "Train Epoch: 3 [37120/60000 (62%)]\tLoss: 0.421414\n",
      "Train Epoch: 3 [37760/60000 (63%)]\tLoss: 0.297531\n",
      "Train Epoch: 3 [38400/60000 (64%)]\tLoss: 0.199440\n",
      "Train Epoch: 3 [39040/60000 (65%)]\tLoss: 0.334748\n",
      "Train Epoch: 3 [39680/60000 (66%)]\tLoss: 0.146646\n",
      "Train Epoch: 3 [40320/60000 (67%)]\tLoss: 0.258996\n",
      "Train Epoch: 3 [40960/60000 (68%)]\tLoss: 0.295535\n",
      "Train Epoch: 3 [41600/60000 (69%)]\tLoss: 0.151200\n",
      "Train Epoch: 3 [42240/60000 (70%)]\tLoss: 0.185242\n",
      "Train Epoch: 3 [42880/60000 (71%)]\tLoss: 0.199290\n",
      "Train Epoch: 3 [43520/60000 (72%)]\tLoss: 0.262234\n",
      "Train Epoch: 3 [44160/60000 (74%)]\tLoss: 0.321430\n",
      "Train Epoch: 3 [44800/60000 (75%)]\tLoss: 0.236415\n",
      "Train Epoch: 3 [45440/60000 (76%)]\tLoss: 0.234728\n",
      "Train Epoch: 3 [46080/60000 (77%)]\tLoss: 0.278052\n",
      "Train Epoch: 3 [46720/60000 (78%)]\tLoss: 0.480307\n",
      "Train Epoch: 3 [47360/60000 (79%)]\tLoss: 0.350219\n",
      "Train Epoch: 3 [48000/60000 (80%)]\tLoss: 0.424153\n",
      "Train Epoch: 3 [48640/60000 (81%)]\tLoss: 0.220794\n",
      "Train Epoch: 3 [49280/60000 (82%)]\tLoss: 0.178927\n",
      "Train Epoch: 3 [49920/60000 (83%)]\tLoss: 0.468677\n",
      "Train Epoch: 3 [50560/60000 (84%)]\tLoss: 0.295860\n",
      "Train Epoch: 3 [51200/60000 (85%)]\tLoss: 0.255525\n",
      "Train Epoch: 3 [51840/60000 (86%)]\tLoss: 0.228863\n",
      "Train Epoch: 3 [52480/60000 (87%)]\tLoss: 0.225229\n",
      "Train Epoch: 3 [53120/60000 (88%)]\tLoss: 0.239936\n",
      "Train Epoch: 3 [53760/60000 (90%)]\tLoss: 0.401469\n",
      "Train Epoch: 3 [54400/60000 (91%)]\tLoss: 0.416422\n",
      "Train Epoch: 3 [55040/60000 (92%)]\tLoss: 0.285366\n",
      "Train Epoch: 3 [55680/60000 (93%)]\tLoss: 0.248867\n",
      "Train Epoch: 3 [56320/60000 (94%)]\tLoss: 0.305234\n",
      "Train Epoch: 3 [56960/60000 (95%)]\tLoss: 0.317501\n",
      "Train Epoch: 3 [57600/60000 (96%)]\tLoss: 0.185439\n",
      "Train Epoch: 3 [58240/60000 (97%)]\tLoss: 0.109122\n",
      "Train Epoch: 3 [58880/60000 (98%)]\tLoss: 0.181343\n",
      "Train Epoch: 3 [59520/60000 (99%)]\tLoss: 0.301487\n",
      "\n",
      "Test set: Avg. loss: 0.0935, Accuracy: 9719/10000 (97%)\n",
      "\n"
     ]
    }
   ],
   "source": [
    "test()\n",
    "for epoch in range(1, n_epochs + 1):\n",
    "  train(epoch)\n",
    "  test()"
   ]
  },
  {
   "cell_type": "code",
   "execution_count": 69,
   "metadata": {},
   "outputs": [
    {
     "data": {
      "text/plain": [
       "Text(0, 0.5, 'negative log likelihood loss')"
      ]
     },
     "execution_count": 69,
     "metadata": {},
     "output_type": "execute_result"
    },
    {
     "data": {
      "image/png": "[encoded data removed]",
      "text/plain": [
       "<Figure size 432x288 with 1 Axes>"
      ]
     },
     "metadata": {
      "needs_background": "light"
     },
     "output_type": "display_data"
    }
   ],
   "source": [
    "fig = plt.figure()\n",
    "plt.plot(train_counter, train_losses, color='blue')\n",
    "plt.scatter(test_counter, test_losses, color='red')\n",
    "plt.legend(['Train Loss', 'Test Loss'], loc='upper right')\n",
    "plt.xlabel('number of training examples seen')\n",
    "plt.ylabel('negative log likelihood loss')\n"
   ]
  },
  {
   "cell_type": "code",
   "execution_count": 70,
   "metadata": {},
   "outputs": [
    {
     "name": "stderr",
     "output_type": "stream",
     "text": [
      "C:\\Users\\Akshata\\Anaconda3\\lib\\site-packages\\ipykernel_launcher.py:17: UserWarning: Implicit dimension choice for log_softmax has been deprecated. Change the call to include dim=X as an argument.\n"
     ]
    }
   ],
   "source": [
    "with torch.no_grad():\n",
    "  output = network(example_data)"
   ]
  },
  {
   "cell_type": "code",
   "execution_count": 71,
   "metadata": {},
   "outputs": [
    {
     "data": {
      "image/png": "[encoded data removed]",
      "text/plain": [
       "<Figure size 432x288 with 12 Axes>"
      ]
     },
     "metadata": {},
     "output_type": "display_data"
    }
   ],
   "source": [
    "fig = plt.figure()\n",
    "for i in range(100,112):\n",
    "  plt.subplot(3,4,i+1-100)\n",
    "  plt.tight_layout()\n",
    "  plt.imshow(example_data[i][0], cmap='gray', interpolation='none')\n",
    "  plt.title(\"Prediction: {}\".format(\n",
    "    output.data.max(1, keepdim=True)[1][i].item()))\n",
    "  plt.xticks([])\n",
    "  plt.yticks([])\n"
   ]
  },
  {
   "cell_type": "code",
   "execution_count": null,
   "metadata": {},
   "outputs": [],
   "source": []
  },
  {
   "cell_type": "code",
   "execution_count": null,
   "metadata": {},
   "outputs": [],
   "source": []
  }
 ],
 "metadata": {
  "kernelspec": {
   "display_name": "Python 3",
   "language": "python",
   "name": "python3"
  },
  "language_info": {
   "codemirror_mode": {
    "name": "ipython",
    "version": 3
   },
   "file_extension": ".py",
   "mimetype": "text/x-python",
   "name": "python",
   "nbconvert_exporter": "python",
   "pygments_lexer": "ipython3",
   "version": "3.7.4"
  }
 },
 "nbformat": 4,
 "nbformat_minor": 2
}
