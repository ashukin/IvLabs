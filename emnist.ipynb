{
 "cells": [
  {
   "cell_type": "code",
   "execution_count": 1,
   "metadata": {},
   "outputs": [],
   "source": [
    "%matplotlib inline\n",
    "import torch\n",
    "import torchvision\n",
    "import torchvision.transforms as transforms\n",
    "import matplotlib.pyplot as plt\n",
    "import numpy as np\n",
    "import pandas as pd\n",
    "import torch.optim as optim\n",
    "import torch.nn as nn\n",
    "import torch.nn.functional as F\n",
    "from torch.autograd import Variable\n",
    "from torch.utils.data import Dataset, DataLoader\n",
    "from torch.utils.tensorboard import SummaryWriter\n",
    "\n",
    "import warnings\n",
    "warnings.filterwarnings(\"ignore\")\n",
    "\n",
    "device = torch.device(\"cuda:0\" if torch.cuda.is_available() else \"cpu\")"
   ]
  },
  {
   "cell_type": "code",
   "execution_count": 2,
   "metadata": {},
   "outputs": [],
   "source": [
    "class EMNIST(Dataset):\n",
    "    \n",
    "    def __init__(self, csv_file):\n",
    "        fashion_data = pd.read_csv(csv_file, header=None)\n",
    "        numpy_arr = fashion_data.loc[:,:].to_numpy()\n",
    "        self.length = numpy_arr.shape[0]\n",
    "        self.y_data = torch.from_numpy(numpy_arr[:,0])\n",
    "        self.x_data = torch.from_numpy(numpy_arr[:,1:]/255)\n",
    "\n",
    "    def __getitem__(self,index):\n",
    "        return self.y_data[index], self.x_data[index]\n",
    "\n",
    "    def __len__(self):\n",
    "        return self.length\n",
    "\n",
    "def convert_to_one_hot(num, l):\n",
    "    hot = np.zeros((1,l))\n",
    "    hot[0,num] = 1.0\n",
    "    return hot  \n",
    "\n",
    "def accuracy(labels ,images, batch, forwardPass):\n",
    "    \n",
    "    '''\n",
    "    For test images: labels = Ground truth values\n",
    "                     images = Pass image to get final output  then compare\n",
    "                     forwardPass = True\n",
    "                     \n",
    "    For train images: labels = Ground truth values\n",
    "                      images = Pass Output LABEL of net to get (not image)\n",
    "                      forwardPass = False\n",
    "    '''\n",
    "    if forwardPass:\n",
    "        outputs = net(images.float().to(device))\n",
    "        _, predicted = torch.max(outputs, 1)\n",
    "        predicted = np.array(predicted.cpu())\n",
    "        \n",
    "    else:\n",
    "        _, predicted = torch.max(images, 1)\n",
    "        predicted = np.array(predicted.cpu())\n",
    "        \n",
    "    ground_truth = np.array([labels[j] for j in range(batch)])\n",
    "    correct_predictions = batch - np.count_nonzero(ground_truth - predicted )\n",
    "    accuracy = correct_predictions*100/batch\n",
    "    return accuracy"
   ]
  },
  {
   "cell_type": "code",
   "execution_count": 3,
   "metadata": {},
   "outputs": [],
   "source": [
    "train_dataset = EMNIST('emnist-byclass-train.csv')\n",
    "train_loader = DataLoader(dataset = train_dataset, batch_size = 2**16,shuffle=True)\n",
    "\n",
    "batch_size_test_data = 1024\n",
    "test_dataset = EMNIST('emnist-byclass-test.csv')\n",
    "test_loader = DataLoader(dataset = test_dataset, batch_size = batch_size_test_data,shuffle=True)"
   ]
  },
  {
   "cell_type": "code",
   "execution_count": 8,
   "metadata": {},
   "outputs": [
    {
     "data": {
      "image/png": "[encoded data removed]",
      "text/plain": [
       "<Figure size 432x288 with 1 Axes>"
      ]
     },
     "metadata": {
      "needs_background": "light"
     },
     "output_type": "display_data"
    }
   ],
   "source": [
    "dataiter = iter(train_loader)\n",
    "labels,images = dataiter.next()\n",
    "\n",
    "images_grid = images.view(-1,1,28,28)\n",
    "img_grid = torchvision.utils.make_grid(images_grid,nrow=8)\n",
    "plt.imshow(img_grid[1,:,:], cmap='gray')\n",
    "\n",
    "classes = ['a','b','c','d','e','f','g','h','i','j','k','l','m','n','o','p','q','r','s','t','u','v','w','x','y','z',\n",
    "           '0','1','2','3','4','5','6','7','8','9',\n",
    "           'A','B','C','D','E','F','G','H','I','J','K','L','M','N','O','P','Q','R','S','T','U','V','W','X','Y','Z'];"
   ]
  },
  {
   "cell_type": "code",
   "execution_count": 9,
   "metadata": {
    "scrolled": true
   },
   "outputs": [
    {
     "data": {
      "text/plain": [
       "Net(\n",
       "  (fc1): Linear(in_features=784, out_features=120, bias=True)\n",
       "  (fc2): Linear(in_features=120, out_features=84, bias=True)\n",
       "  (fc3): Linear(in_features=84, out_features=62, bias=True)\n",
       "  (relu): ReLU()\n",
       ")"
      ]
     },
     "execution_count": 9,
     "metadata": {},
     "output_type": "execute_result"
    }
   ],
   "source": [
    "class Net(nn.Module):\n",
    "    def __init__(self):\n",
    "        super().__init__()\n",
    "        self.fc1 = nn.Linear(784, 120)\n",
    "        self.fc2 = nn.Linear(120, 84)\n",
    "        self.fc3 = nn.Linear(84, 784)\n",
    "        self.fc3 = nn.Linear(84, 62)\n",
    "        self.relu = nn.ReLU()\n",
    "#         self.sigmoid = nn.Sigmoid()\n",
    "#         self.softmax = nn.Softmax()\n",
    "        \n",
    "    def forward(self, x):\n",
    "        x = self.fc1(x)\n",
    "        x = self.relu(x)\n",
    "        x = self.fc2(x)\n",
    "        x = self.relu(x)\n",
    "        x = self.fc3(x)\n",
    "#         x = self.softmax(x)\n",
    "        return x\n",
    "\n",
    "\n",
    "net = Net()\n",
    "net.to(device)\n",
    "criterion = nn.CrossEntropyLoss()\n",
    "optimizer = torch.optim.Adam(net.parameters())\n",
    "net"
   ]
  },
  {
   "cell_type": "code",
   "execution_count": 11,
   "metadata": {},
   "outputs": [
    {
     "ename": "ValueError",
     "evalue": "operands could not be broadcast together with shapes (1023,) (1024,) ",
     "output_type": "error",
     "traceback": [
      "\u001b[1;31m---------------------------------------------------------------------------\u001b[0m",
      "\u001b[1;31mValueError\u001b[0m                                Traceback (most recent call last)",
      "\u001b[1;32m<ipython-input-11-dd7de65e8044>\u001b[0m in \u001b[0;36m<module>\u001b[1;34m\u001b[0m\n\u001b[0;32m     24\u001b[0m         \u001b[0moptimizer\u001b[0m\u001b[1;33m.\u001b[0m\u001b[0mstep\u001b[0m\u001b[1;33m(\u001b[0m\u001b[1;33m)\u001b[0m\u001b[1;33m\u001b[0m\u001b[1;33m\u001b[0m\u001b[0m\n\u001b[0;32m     25\u001b[0m         \u001b[0mrunning_loss\u001b[0m \u001b[1;33m+=\u001b[0m \u001b[0mloss\u001b[0m\u001b[1;33m.\u001b[0m\u001b[0mitem\u001b[0m\u001b[1;33m(\u001b[0m\u001b[1;33m)\u001b[0m\u001b[1;33m\u001b[0m\u001b[1;33m\u001b[0m\u001b[0m\n\u001b[1;32m---> 26\u001b[1;33m         \u001b[0mtest_accuracy\u001b[0m \u001b[1;33m=\u001b[0m \u001b[0maccuracy\u001b[0m\u001b[1;33m(\u001b[0m\u001b[0mtest_labels\u001b[0m\u001b[1;33m,\u001b[0m\u001b[0mtest_images\u001b[0m\u001b[1;33m,\u001b[0m \u001b[0mbatch_size_test_data\u001b[0m\u001b[1;33m-\u001b[0m\u001b[1;36m1\u001b[0m\u001b[1;33m,\u001b[0m \u001b[0mforwardPass\u001b[0m \u001b[1;33m=\u001b[0m \u001b[1;32mTrue\u001b[0m\u001b[1;33m)\u001b[0m\u001b[1;33m\u001b[0m\u001b[1;33m\u001b[0m\u001b[0m\n\u001b[0m\u001b[0;32m     27\u001b[0m         \u001b[0mtrain_accuracy\u001b[0m \u001b[1;33m=\u001b[0m \u001b[0maccuracy\u001b[0m\u001b[1;33m(\u001b[0m\u001b[0mtrain_labels\u001b[0m\u001b[1;33m,\u001b[0m\u001b[0my_pred\u001b[0m\u001b[1;33m,\u001b[0m \u001b[0mlen\u001b[0m\u001b[1;33m(\u001b[0m\u001b[0mtrain_dataset\u001b[0m\u001b[1;33m)\u001b[0m\u001b[1;33m-\u001b[0m\u001b[1;36m1\u001b[0m\u001b[1;33m,\u001b[0m \u001b[0mforwardPass\u001b[0m \u001b[1;33m=\u001b[0m \u001b[1;32mFalse\u001b[0m\u001b[1;33m)\u001b[0m\u001b[1;33m\u001b[0m\u001b[1;33m\u001b[0m\u001b[0m\n\u001b[0;32m     28\u001b[0m \u001b[1;33m\u001b[0m\u001b[0m\n",
      "\u001b[1;32m<ipython-input-2-bb768b3b9a1d>\u001b[0m in \u001b[0;36maccuracy\u001b[1;34m(labels, images, batch, forwardPass)\u001b[0m\n\u001b[0;32m     40\u001b[0m \u001b[1;33m\u001b[0m\u001b[0m\n\u001b[0;32m     41\u001b[0m     \u001b[0mground_truth\u001b[0m \u001b[1;33m=\u001b[0m \u001b[0mnp\u001b[0m\u001b[1;33m.\u001b[0m\u001b[0marray\u001b[0m\u001b[1;33m(\u001b[0m\u001b[1;33m[\u001b[0m\u001b[0mlabels\u001b[0m\u001b[1;33m[\u001b[0m\u001b[0mj\u001b[0m\u001b[1;33m]\u001b[0m \u001b[1;32mfor\u001b[0m \u001b[0mj\u001b[0m \u001b[1;32min\u001b[0m \u001b[0mrange\u001b[0m\u001b[1;33m(\u001b[0m\u001b[0mbatch\u001b[0m\u001b[1;33m)\u001b[0m\u001b[1;33m]\u001b[0m\u001b[1;33m)\u001b[0m\u001b[1;33m\u001b[0m\u001b[1;33m\u001b[0m\u001b[0m\n\u001b[1;32m---> 42\u001b[1;33m     \u001b[0mcorrect_predictions\u001b[0m \u001b[1;33m=\u001b[0m \u001b[0mbatch\u001b[0m \u001b[1;33m-\u001b[0m \u001b[0mnp\u001b[0m\u001b[1;33m.\u001b[0m\u001b[0mcount_nonzero\u001b[0m\u001b[1;33m(\u001b[0m\u001b[0mground_truth\u001b[0m \u001b[1;33m-\u001b[0m \u001b[0mpredicted\u001b[0m \u001b[1;33m)\u001b[0m\u001b[1;33m\u001b[0m\u001b[1;33m\u001b[0m\u001b[0m\n\u001b[0m\u001b[0;32m     43\u001b[0m     \u001b[0maccuracy\u001b[0m \u001b[1;33m=\u001b[0m \u001b[0mcorrect_predictions\u001b[0m\u001b[1;33m*\u001b[0m\u001b[1;36m100\u001b[0m\u001b[1;33m/\u001b[0m\u001b[0mbatch\u001b[0m\u001b[1;33m\u001b[0m\u001b[1;33m\u001b[0m\u001b[0m\n\u001b[0;32m     44\u001b[0m     \u001b[1;32mreturn\u001b[0m \u001b[0maccuracy\u001b[0m\u001b[1;33m\u001b[0m\u001b[1;33m\u001b[0m\u001b[0m\n",
      "\u001b[1;31mValueError\u001b[0m: operands could not be broadcast together with shapes (1023,) (1024,) "
     ]
    }
   ],
   "source": [
    "#  tensorboard --logdir=runs\n",
    "\n",
    "writer = SummaryWriter('runs/fashion_mnist_experiment_2')\n",
    "\n",
    "test_dataiter = iter(test_loader)\n",
    "test_labels ,test_images= test_dataiter.next() \n",
    "\n",
    "iterations = 200\n",
    "\n",
    "\n",
    "for epoch in range(iterations+1):\n",
    "    running_loss = 0.0\n",
    "    for i,data in enumerate(train_loader):\n",
    "\n",
    "        train_labels, train_images = data\n",
    "        outputs, inputs = Variable(train_labels).to(device), Variable(train_images).to(device)\n",
    "#         one_hots = torch.Tensor([convert_to_one_hot(int(i),10) for i in outputs]).view(1,-1)\n",
    "        \n",
    "        y_pred = net.forward(inputs.float().to(device))\n",
    "\n",
    "        loss = criterion(y_pred, outputs.to(device))\n",
    "        optimizer.zero_grad()\n",
    "        loss.backward()\n",
    "        optimizer.step()\n",
    "        running_loss += loss.item()\n",
    "        test_accuracy = accuracy(test_labels,test_images, batch_size_test_data-1, forwardPass = True)\n",
    "        train_accuracy = accuracy(train_labels,y_pred, len(train_dataset)-1, forwardPass = False)\n",
    "        \n",
    "    if epoch % 2 == 0:\n",
    "        print('epochs: {}, loss: {:.5f}, train_accuracy: {:.5f}, test_accuracy: {:.5f}'\n",
    "              .format(epoch, running_loss,test_accuracy,train_accuracy))\n",
    "        writer.add_scalar('training loss',running_loss, epoch)\n",
    "        \n",
    "    if epoch % 100 == 0:\n",
    "        PATH = './saved_model.pth'\n",
    "        torch.save(net.state_dict(), PATH)\n",
    "        print(\"Model Saved! at epoch no.: {}\".format(epoch))\n",
    "\n",
    "writer.close()"
   ]
  },
  {
   "cell_type": "code",
   "execution_count": null,
   "metadata": {},
   "outputs": [],
   "source": [
    "def predictions(PATH, images, validation_size, device):\n",
    "    net = Net().to(device)\n",
    "    net.load_state_dict(torch.load(PATH))\n",
    "    outputs = net(images.float().to(device))\n",
    "    _, predicted = torch.max(outputs, 1)\n",
    "    predicted = [classes[predicted[j]] for j in range(validation_size)]\n",
    "    print('Predicted: ', ' '.join('%5s' % prediction for prediction in predicted))\n",
    "    \n",
    "    \n",
    "validation_size = 8\n",
    "model_PATH = 'saved_model.pth'\n",
    "\n",
    "validation_dataset = FashionDataset('emnist-byclass-test.csv')\n",
    "validation_loader = DataLoader(dataset = validation_dataset, batch_size = validation_size,shuffle=True)\n",
    "dataiter = iter(validation_loader)\n",
    "labels ,images= dataiter.next()\n",
    "\n",
    "images_grid = images.view(-1,1,28,28)\n",
    "img_grid = torchvision.utils.make_grid(images_grid,nrow=8)\n",
    "plt.imshow(img_grid[1,:,:], cmap='gray')\n",
    "print('GroundTruth: ', ' '.join('%5s' % classes[labels[j]] for j in range(8)))\n",
    "\n",
    "predictions(model_PATH, images, validation_size, device) "
   ]
  },
  {
   "cell_type": "code",
   "execution_count": null,
   "metadata": {},
   "outputs": [],
   "source": []
  }
 ],
 "metadata": {
  "kernelspec": {
   "display_name": "Python 3",
   "language": "python",
   "name": "python3"
  },
  "language_info": {
   "codemirror_mode": {
    "name": "ipython",
    "version": 3
   },
   "file_extension": ".py",
   "mimetype": "text/x-python",
   "name": "python",
   "nbconvert_exporter": "python",
   "pygments_lexer": "ipython3",
   "version": "3.7.4"
  }
 },
 "nbformat": 4,
 "nbformat_minor": 2
}
